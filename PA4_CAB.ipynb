{
 "cells": [
  {
   "cell_type": "markdown",
   "id": "adadf32f-5565-408e-97a2-e48567516b91",
   "metadata": {},
   "source": [
    "# Programming Assignment 4\n",
    "---\n",
    "**Author:** Carson Brower  \n",
    "**Version:** 1.0  \n",
    "**Semester:** Spring 2024 \n",
    "\n",
    "This *notebook* contains my solution(s) to **Programming Assignment 4**"
   ]
  },
  {
   "cell_type": "markdown",
   "id": "1a7720ac-9ad2-462e-8362-088db8d3980b",
   "metadata": {},
   "source": [
    "### Problem 1 - Swapping List Elements"
   ]
  },
  {
   "cell_type": "code",
   "execution_count": 14,
   "id": "3fa16006-b67f-4664-a24e-76ec9e10098e",
   "metadata": {
    "tags": []
   },
   "outputs": [
    {
     "name": "stdout",
     "output_type": "stream",
     "text": [
      "Original list: [86, 9, 99, 11, 36, 77, 64, 9, 94]\n",
      "Swapped list: [94, 9, 99, 11, 36, 77, 64, 9, 86]\n",
      "\n"
     ]
    }
   ],
   "source": [
    "import random\n",
    "\n",
    "def swap_first_last(my_list):\n",
    "    if len(my_list) < 2:\n",
    "        return lst\n",
    "    else:\n",
    "        swapped_list = my_list[:]\n",
    "        swapped_list[0], swapped_list[-1] = swapped_list[-1], swapped_list[0]\n",
    "        return swapped_list\n",
    "def generate_random_list(length):\n",
    "    return [random.randint(1, 100) for i in range(9)]\n",
    "for i in range(1):\n",
    "    random_list = generate_random_list(random.randint(1, 10))\n",
    "    print(\"Original list:\", random_list)\n",
    "    swapped_list = swap_first_last(random_list)\n",
    "    print(\"Swapped list:\", swapped_list)\n",
    "    print()"
   ]
  },
  {
   "cell_type": "markdown",
   "id": "46fe2680-ed3f-4ad8-b38d-06c6ec542e91",
   "metadata": {},
   "source": [
    "### Problem 2 - Encoding Data "
   ]
  },
  {
   "cell_type": "code",
   "execution_count": 15,
   "id": "2d98d58f-a546-490d-9e81-fff7f636d5f3",
   "metadata": {
    "tags": []
   },
   "outputs": [
    {
     "name": "stdout",
     "output_type": "stream",
     "text": [
      "Original list: [95, 29, 13, 24, 30, 65, 33, 56, 53, 20]\n",
      "Encoded list: [-1, -1, -1, 1, 1, -1, -1, 1, -1, 1]\n"
     ]
    }
   ],
   "source": [
    "import random\n",
    "\n",
    "def encode(my_list):\n",
    "    encoded_list = []\n",
    "    for num in my_list:\n",
    "        if num % 2 == 0:\n",
    "            encoded_list.append(1)\n",
    "        else:\n",
    "            encoded_list.append(-1)\n",
    "    return encoded_list\n",
    "random_list = [random.randint(1, 100) for i in range(10)]\n",
    "print(\"Original list:\", random_list)\n",
    "encoded_list = encode(random_list)\n",
    "print(\"Encoded list:\", encoded_list)"
   ]
  },
  {
   "cell_type": "markdown",
   "id": "77dd0f38-898c-474b-9a5a-c44e86858c81",
   "metadata": {},
   "source": [
    "### Problem 3 - Rotating Tuples"
   ]
  },
  {
   "cell_type": "code",
   "execution_count": 19,
   "id": "8fbef930-e978-47af-9a88-aff056d09857",
   "metadata": {
    "tags": []
   },
   "outputs": [
    {
     "name": "stdout",
     "output_type": "stream",
     "text": [
      "Random tuple: ('Ali', 'Morgan', 7)\n",
      "Rotated tuple: (7, 'Ali', 'Morgan')\n"
     ]
    }
   ],
   "source": [
    "import random\n",
    "\n",
    "def rotate(tup):\n",
    "    a, b, c = tup[2], tup[0], tup[1] \n",
    "    return a, b, c\n",
    "def generate_random_tuple():\n",
    "    return (random.choice(['Brady', 'Ali', 'Jakob']), random.choice(['Smith', 'Lee', 'Morgan']), random.randint(1, 100))\n",
    "random_tuple = generate_random_tuple()\n",
    "print(\"Random tuple:\", random_tuple)\n",
    "rotated_tuple = rotate(random_tuple)\n",
    "print(\"Rotated tuple:\", rotated_tuple)"
   ]
  },
  {
   "cell_type": "markdown",
   "id": "c8fa4bbd-45cc-47ea-8083-78fa16ce609f",
   "metadata": {},
   "source": [
    "### Problem 4 - Creating a List of Tuples"
   ]
  },
  {
   "cell_type": "code",
   "execution_count": 2,
   "id": "796d2723-d28a-48d1-9573-120f81111ee5",
   "metadata": {},
   "outputs": [
    {
     "name": "stdout",
     "output_type": "stream",
     "text": [
      "[('William', 'McKinley', 25), ('Theodore', 'Roosevelt', 26), ('William', 'Taft', 27), ('Woodrow', 'Wilson', 28), ('Warren', 'Harding', 29), ('Calvin', 'Coolidge', 30), ('Herbert', 'Hoover', 31), ('Franklin', 'Roosevelt', 32), ('Harry', 'Truman', 33), ('Dwight', 'Eisenhower', 34), ('John', 'Kennedy', 35), ('Lyndon', 'Johnson', 36), ('Richard', 'Nixon', 37), ('Gerald', 'Ford', 38), ('Jimmy', 'Carter', 39), ('Ronald', 'Reagan', 40), ('George', 'Bush', 41), ('William', 'Clinton', 42)]\n"
     ]
    }
   ],
   "source": [
    "def combine_presidents_info(first_names, last_names, numbers):\n",
    "    presidents_info = list(zip(first_names, last_names, numbers))\n",
    "    return presidents_info\n",
    "first_names = [\"William\", \"Theodore\", \"William\", \"Woodrow\", \"Warren\", \"Calvin\", \"Herbert\", \"Franklin\", \"Harry\", \"Dwight\", \"John\", \"Lyndon\", \"Richard\", \"Gerald\", \"Jimmy\", \"Ronald\", \"George\", \"William\"]\n",
    "last_names = [\"McKinley\", \"Roosevelt\", \"Taft\", \"Wilson\", \"Harding\", \"Coolidge\", \"Hoover\", \"Roosevelt\", \"Truman\", \"Eisenhower\", \"Kennedy\", \"Johnson\", \"Nixon\", \"Ford\", \"Carter\", \"Reagan\", \"Bush\", \"Clinton\"]\n",
    "numbers = list(range(25, 43))\n",
    "presidents_info = combine_presidents_info(first_names, last_names, numbers)\n",
    "print(presidents_info)"
   ]
  },
  {
   "cell_type": "markdown",
   "id": "25885aa6-ed69-471a-bf3f-03b27d16791b",
   "metadata": {},
   "source": [
    "### Problem 5 - Finding Perfect Numbers"
   ]
  },
  {
   "cell_type": "code",
   "execution_count": 4,
   "id": "fa9dd8b0-711f-412e-9a20-de0190b42fea",
   "metadata": {
    "tags": []
   },
   "outputs": [
    {
     "name": "stdout",
     "output_type": "stream",
     "text": [
      "Perfect numbers: [6, 28]\n"
     ]
    }
   ],
   "source": [
    "numbers = list(range(1, 101))\n",
    "def perfect_number(n):\n",
    "    sum_of_divisors = 0\n",
    "    for i in range(1, n//2 + 1):\n",
    "        if n % i == 0:\n",
    "            sum_of_divisors += i\n",
    "    if sum_of_divisors == n:\n",
    "        return True\n",
    "    else:\n",
    "        return False\n",
    "perfect_numbers = list(filter(perfect_number, numbers))\n",
    "print(\"Perfect numbers:\", perfect_numbers)"
   ]
  }
 ],
 "metadata": {
  "kernelspec": {
   "display_name": "Python 3 (ipykernel)",
   "language": "python",
   "name": "python3"
  },
  "language_info": {
   "codemirror_mode": {
    "name": "ipython",
    "version": 3
   },
   "file_extension": ".py",
   "mimetype": "text/x-python",
   "name": "python",
   "nbconvert_exporter": "python",
   "pygments_lexer": "ipython3",
   "version": "3.11.5"
  }
 },
 "nbformat": 4,
 "nbformat_minor": 5
}
